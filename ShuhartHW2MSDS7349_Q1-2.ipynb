{
 "cells": [
  {
   "cell_type": "markdown",
   "metadata": {},
   "source": [
    "#### July 12, 2016\n",
    "# Name: Ryan Shuhart\n",
    "## MSDS 7349\n",
    "### Homework 2\n",
    "Exercise 1 & 2 below<br>\n",
    "Exercise 3 on separate notebook"
   ]
  },
  {
   "cell_type": "markdown",
   "metadata": {},
   "source": [
    "## Exercise 1"
   ]
  },
  {
   "cell_type": "code",
   "execution_count": 2,
   "metadata": {
    "collapsed": false
   },
   "outputs": [
    {
     "name": "stdout",
     "output_type": "stream",
     "text": [
      "Enter sentence to encrypt: Mayday! Mayday!\n",
      "Enter shift value: 4\n",
      "The encoded phrase is:  Qechec! Qechec!\n"
     ]
    }
   ],
   "source": [
    "# Ryan Shuhart\n",
    "# MSDS7349\n",
    "# July 12, 2016\n",
    "#\n",
    "# Sources:\n",
    "# http://stackoverflow.com/questions/483666/python-reverse-inverse-a-mapping\n",
    "# http://stackoverflow.com/questions/12934997/how-to-detect-lowercase-letters-in-python\n",
    "phrase = str(input(\"Enter sentence to encrypt: \"))\n",
    "shift = int(input(\"Enter shift value: \"))%26\n",
    "encodedPhrase = \"\"\n",
    "for c in phrase:\n",
    "    if c.islower() == True:\n",
    "        encodedPhrase = encodedPhrase + chr(((ord(c)+shift)-97)%26 + 97)\n",
    "    elif c.isupper() == True:\n",
    "        encodedPhrase = encodedPhrase + chr(((ord(c)+shift)-65)%26 + 65)\n",
    "    else:\n",
    "        encodedPhrase = encodedPhrase + c\n",
    "        \n",
    "print(\"The encoded phrase is: \",encodedPhrase)"
   ]
  },
  {
   "cell_type": "markdown",
   "metadata": {},
   "source": [
    "## Exercise 2"
   ]
  },
  {
   "cell_type": "code",
   "execution_count": 3,
   "metadata": {
    "collapsed": false
   },
   "outputs": [
    {
     "name": "stdout",
     "output_type": "stream",
     "text": [
      "Enter sentence to decrypt: Nflcu cfmv re vokvejzfe wfi aljk hlvjkzfe eldsvi 3, gcvrjv!\n",
      "\n",
      "Using cryptanalysis...\n",
      "Letter        9\n",
      "Letter v      7\n",
      "Letter e      5\n",
      "Letter f      5\n",
      "Letter j      4\n",
      "Letter l      4\n",
      "Letter c      3\n",
      "Letter k      3\n",
      "Letter i      2\n",
      "Letter r      2\n",
      "Letter z      2\n",
      "Letter N      1\n",
      "Letter ,      1\n",
      "Letter g      1\n",
      "Letter u      1\n",
      "Letter m      1\n",
      "Letter d      1\n",
      "Letter a      1\n",
      "Letter !      1\n",
      "Letter 3      1\n",
      "Letter w      1\n",
      "Letter o      1\n",
      "Letter h      1\n",
      "Letter s      1\n",
      "\n",
      "Assigning the following distances from the letter 'e' as the shift:\n",
      "[-17, 0, -1, -5, -7, 2, -6, -4, -13, -21, 23, 57]\n",
      "\n",
      "offset is 17: - Would love an extension for just question number 3, please!\n",
      "offset is 0: - Nflcu cfmv re vokvejzfe wfi aljk hlvjkzfe eldsvi 3, gcvrjv!\n",
      "offset is 1: - Mekbt belu qd unjudiyed veh zkij gkuijyed dkcruh 3, fbuqiu!\n",
      "offset is 5: - Iagxp xahq mz qjfqzeuaz rad vgef cgqefuaz zgynqd 3, bxqmeq!\n",
      "offset is 7: - Gyevn vyfo kx ohdoxcsyx pyb tecd aeocdsyx xewlob 3, zvokco!\n",
      "offset is 24: - Phnew ehox tg xqmxglbhg yhk cnlm jnxlmbhg gnfuxk 3, iextlx!\n",
      "offset is 6: - Hzfwo wzgp ly piepydtzy qzc ufde bfpdetzy yfxmpc 3, awpldp!\n",
      "offset is 4: - Jbhyq ybir na rkgrafvba sbe whfg dhrfgvba ahzore 3, cyrnfr!\n",
      "offset is 13: - Asyph pszi er ibxirwmsr jsv nywx uyiwxmsr ryqfiv 3, tpiewi!\n",
      "offset is 21: - Skqhz hkra wj atpajoekj bkn fqop mqaopekj jqixan 3, lhawoa!\n",
      "offset is 3: - Kcizr zcjs ob slhsbgwcb tcf xigh eisghwcb biapsf 3, dzsogs!\n",
      "offset is 21: - Skqhz hkra wj atpajoekj bkn fqop mqaopekj jqixan 3, lhawoa!\n"
     ]
    }
   ],
   "source": [
    "# http://stackoverflow.com/questions/991350/counting-repeated-characters-in-a-string-in-python\n",
    "# https://www.sans.org/reading-room/whitepapers/vpns/basic-cryptanalysis-techniques-752\n",
    "    # The most common letters in the English language are\n",
    "    # E,T,N,R,O,A,I and S\n",
    "# http://stackoverflow.com/questions/613183/sort-a-python-dictionary-by-value\n",
    "import collections\n",
    "import operator\n",
    "\n",
    "cipher_phrase = str(input(\"Enter sentence to decrypt: \"))\n",
    "print()\n",
    "\n",
    "d = collections.defaultdict(int)\n",
    "for c in cipher_phrase:\n",
    "    d[c] += 1\n",
    "\n",
    "print(\"Using cryptanalysis...\")\n",
    "for c in sorted(d, key=d.get, reverse=True):\n",
    "    print('Letter %s %6d' % (c, d[c]))\n",
    "    \n",
    "# Sort dictionary by frequency count\n",
    "x = sorted(d.items(), key=operator.itemgetter(1), reverse=True)\n",
    "\n",
    "# Use the common letter of lower case 'e' to explore offsets. \n",
    "# Will use the distance of the most common cipher letters from 'e'\n",
    "# to search for the correct shift.\n",
    "crypto_shifts = []\n",
    "z = 0\n",
    "while z < int(len(d)/2) + 1: # Iterate through half the number of unique letters plus 1\n",
    "    if x[z][0] != ' ': # If not a space symbol then calculate distance from 'e'\n",
    "        dist = ord('e') - ord(x[z][0])\n",
    "        crypto_shifts.append(dist) \n",
    "    z += 1\n",
    "\n",
    "print()\n",
    "print(\"Assigning the following distances from the letter 'e' as the shift:\")\n",
    "print(crypto_shifts)\n",
    "print()\n",
    "    \n",
    "# Print phrase with e\n",
    "for shift in crypto_shifts:\n",
    "    decodedPhrase = \"\"\n",
    "    for c in cipher_phrase:        \n",
    "        if c.islower() == True:\n",
    "            decodedPhrase = decodedPhrase + chr(((ord(c)+shift)-97)%26 + 97)\n",
    "        elif c.isupper() == True:\n",
    "            decodedPhrase = decodedPhrase + chr(((ord(c)+shift)-65)%26 + 65)\n",
    "        else:\n",
    "            decodedPhrase = decodedPhrase + c\n",
    "    print(\"offset is \" + str((26 - shift)%26) + \": - \"+decodedPhrase)\n",
    "        \n"
   ]
  },
  {
   "cell_type": "markdown",
   "metadata": {},
   "source": [
    "The frequency of the letter 'e' gave this one away and guessed correctly the first time!\n",
    "\n",
    "offset is 17: - Would love an extension for just question number 3, please!"
   ]
  }
 ],
 "metadata": {
  "kernelspec": {
   "display_name": "Python 3",
   "language": "python",
   "name": "python3"
  },
  "language_info": {
   "codemirror_mode": {
    "name": "ipython",
    "version": 3
   },
   "file_extension": ".py",
   "mimetype": "text/x-python",
   "name": "python",
   "nbconvert_exporter": "python",
   "pygments_lexer": "ipython3",
   "version": "3.5.1"
  }
 },
 "nbformat": 4,
 "nbformat_minor": 0
}
