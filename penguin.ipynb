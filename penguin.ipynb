{
 "cells": [
  {
   "cell_type": "code",
   "execution_count": null,
   "metadata": {
    "collapsed": false
   },
   "outputs": [],
   "source": []
  },
  {
   "cell_type": "code",
   "execution_count": 26,
   "metadata": {
    "collapsed": false
   },
   "outputs": [],
   "source": [
    "from PIL import Image\n",
    "import sys\n",
    "import os\n",
    "from Crypto.Cipher import AES\n",
    "\n",
    "IV_SIZE = 16\n",
    "BLOCK_SIZE = 16\n",
    "\n",
    "def check_args():\n",
    "    try:\n",
    "        if (len(sys.argv) != 4):\n",
    "            raise Exception()\n",
    "        elif (not os.path.isfile(sys.argv[1])):\n",
    "            raise Exception(\"Input file must exist\")\n",
    "        elif (not sys.argv[3] in ['CBC', 'ECB']):\n",
    "            raise Exception(\"Block cipher mode should be ECB or CBC\")\n",
    "        return (sys.argv[1], sys.argv[2], sys.argv[3])\n",
    "    except Exception, ex:\n",
    "        print \"Usage:\", sys.argv[0], \\\n",
    "          \"full_path_to_input_image full_path_to_output_image ECB|CBC\"\n",
    "        if len(ex.args) > 0:\n",
    "            print \"--\" + str(ex)\n",
    "        sys.exit(1)\n",
    "\n",
    "\n",
    "def encrypt(input_filename, output_filename, cipher_mode):\n",
    "    \"\"\"Encrypt an image file and write out the results as a JPEG.\"\"\"\n",
    "\n",
    "    input_image = Image.open(input_filename)\n",
    "\n",
    "    # Key must be one of 16/24/32 bytes in length.\n",
    "    key = \"0123456789ABCDEF\"\n",
    "    mode = AES.MODE_ECB #if cipher_mode == 'CBC' else AES.MODE_ECB\n",
    "    iv = os.urandom(IV_SIZE)\n",
    "\n",
    "    aes = AES.new(key, mode, iv)\n",
    "\n",
    "    image_string = input_image.tobytes()\n",
    "    # The input string must be padded to the input block size.\n",
    "    image_padding_length = BLOCK_SIZE - len(image_string) % BLOCK_SIZE\n",
    "    image_string += image_padding_length * \"~\"\n",
    "\n",
    "    # generate the encrypted image string\n",
    "    encrypted = aes.encrypt(image_string)\n",
    "\n",
    "    # create an image from the encrypted string\n",
    "    encrypted_img = Image.frombuffer(\"RGB\", input_image.size, encrypted, 'raw',\n",
    "                                     \"RGB\", 0, 1)\n",
    "\n",
    "    # create and save the output image\n",
    "    encrypted_img.save(output_filename, 'JPEG')\n",
    "\n",
    "    print(\"Encrypted using AES in \" + cipher_mode + \" mode and saved to \\\"\" +\n",
    "           output_filename + \"\\\"!\")\n",
    "\n",
    "\n",
    "# if __name__ == \"__main__\":\n",
    "#     args = check_args()\n",
    "#     encrypt(*args)"
   ]
  },
  {
   "cell_type": "code",
   "execution_count": 32,
   "metadata": {
    "collapsed": false
   },
   "outputs": [
    {
     "name": "stdout",
     "output_type": "stream",
     "text": [
      "Encrypted using AES in ECB mode and saved to \".\\img\\enc_python.bmp\"!\n"
     ]
    }
   ],
   "source": [
    "input_filename = \".\\\\img\\\\python.bmp\"\n",
    "output_filename = \".\\\\img\\\\enc_\"+input_filename.split(\"\\\\\")[-1]\n",
    "cipher_mode = 'ECB'\n",
    "encrypt(input_filename, output_filename, cipher_mode)"
   ]
  },
  {
   "cell_type": "code",
   "execution_count": 16,
   "metadata": {
    "collapsed": false
   },
   "outputs": [
    {
     "name": "stdout",
     "output_type": "stream",
     "text": [
      ".\\img\\tux_clear.bmp\n"
     ]
    }
   ],
   "source": [
    "print(input_filename)"
   ]
  }
 ],
 "metadata": {
  "kernelspec": {
   "display_name": "Python 2",
   "language": "python",
   "name": "python2"
  },
  "language_info": {
   "codemirror_mode": {
    "name": "ipython",
    "version": 2
   },
   "file_extension": ".py",
   "mimetype": "text/x-python",
   "name": "python",
   "nbconvert_exporter": "python",
   "pygments_lexer": "ipython2",
   "version": "2.7.11"
  }
 },
 "nbformat": 4,
 "nbformat_minor": 0
}
