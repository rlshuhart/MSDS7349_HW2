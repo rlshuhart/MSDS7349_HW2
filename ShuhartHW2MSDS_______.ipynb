{
 "cells": [
  {
   "cell_type": "markdown",
   "metadata": {},
   "source": [
    "# MSDS 7349\n",
    "Data and Network Security - Homework - Introduction to Ciphers <br>\n",
    "\n",
    "## Name: Ryan Shuhart"
   ]
  },
  {
   "cell_type": "markdown",
   "metadata": {},
   "source": [
    "## Exercise 1"
   ]
  },
  {
   "cell_type": "code",
   "execution_count": 10,
   "metadata": {
    "collapsed": false
   },
   "outputs": [
    {
     "name": "stdout",
     "output_type": "stream",
     "text": [
      "Enter sentence to encrypt: Mayday! Mayday!\n",
      "Enter shift value: 4\n",
      "The encoded phrase is:  Qechec! Qechec!\n"
     ]
    }
   ],
   "source": [
    "phrase = str(input(\"Enter sentence to encrypt: \"))\n",
    "shift = int(input(\"Enter shift value: \"))%26\n",
    "encodedPhrase = \"\"\n",
    "for c in phrase:\n",
    "    if c.islower() == True:\n",
    "        encodedPhrase = encodedPhrase + chr(((ord(c)+shift)-97)%26 + 97)\n",
    "    elif c.isupper() == True:\n",
    "        encodedPhrase = encodedPhrase + chr(((ord(c)+shift)-65)%26 + 65)\n",
    "    else:\n",
    "        encodedPhrase = encodedPhrase + c\n",
    "        \n",
    "print(\"The encoded phrase is: \",encodedPhrase)"
   ]
  },
  {
   "cell_type": "markdown",
   "metadata": {},
   "source": [
    "sources:\n",
    "\n",
    "    http://stackoverflow.com/questions/483666/python-reverse-inverse-a-mapping\n",
    "    http://stackoverflow.com/questions/12934997/how-to-detect-lowercase-letters-in-python"
   ]
  },
  {
   "cell_type": "markdown",
   "metadata": {},
   "source": [
    "## Excercise 2"
   ]
  },
  {
   "cell_type": "code",
   "execution_count": 1,
   "metadata": {
    "collapsed": false
   },
   "outputs": [
    {
     "name": "stdout",
     "output_type": "stream",
     "text": [
      "Enter sentence to decrypt: Cnkxk ynuarj ck skkz??\n",
      "offset is: 1 - Dolyl zovbsk dl tlla??\n",
      "offset is: 2 - Epmzm apwctl em ummb??\n",
      "offset is: 3 - Fqnan bqxdum fn vnnc??\n",
      "offset is: 4 - Grobo cryevn go wood??\n",
      "offset is: 5 - Hspcp dszfwo hp xppe??\n",
      "offset is: 6 - Itqdq etagxp iq yqqf??\n",
      "offset is: 7 - Jurer fubhyq jr zrrg??\n",
      "offset is: 8 - Kvsfs gvcizr ks assh??\n",
      "offset is: 9 - Lwtgt hwdjas lt btti??\n",
      "offset is: 10 - Mxuhu ixekbt mu cuuj??\n",
      "offset is: 11 - Nyviv jyflcu nv dvvk??\n",
      "offset is: 12 - Ozwjw kzgmdv ow ewwl??\n",
      "offset is: 13 - Paxkx lahnew px fxxm??\n",
      "offset is: 14 - Qbyly mbiofx qy gyyn??\n",
      "offset is: 15 - Rczmz ncjpgy rz hzzo??\n",
      "offset is: 16 - Sdana odkqhz sa iaap??\n",
      "offset is: 17 - Tebob pelria tb jbbq??\n",
      "offset is: 18 - Ufcpc qfmsjb uc kccr??\n",
      "offset is: 19 - Vgdqd rgntkc vd ldds??\n",
      "offset is: 20 - Where should we meet??\n",
      "offset is: 21 - Xifsf tipvme xf nffu??\n",
      "offset is: 22 - Yjgtg ujqwnf yg oggv??\n",
      "offset is: 23 - Zkhuh vkrxog zh phhw??\n",
      "offset is: 24 - Alivi wlsyph ai qiix??\n",
      "offset is: 25 - Bmjwj xmtzqi bj rjjy??\n"
     ]
    }
   ],
   "source": [
    "cipher_phrase = str(input(\"Enter sentence to decrypt: \"))\n",
    "\n",
    "i=0\n",
    "for i in range(1,26):\n",
    "    decodedPhrase = \"\"\n",
    "    for c in cipher_phrase:        \n",
    "        if c.islower() == True:\n",
    "            decodedPhrase = decodedPhrase + chr(((ord(c)+i)-97)%26 + 97)\n",
    "        elif c.isupper() == True:\n",
    "            decodedPhrase = decodedPhrase + chr(((ord(c)+i)-65)%26 + 65)\n",
    "        else:\n",
    "            decodedPhrase = decodedPhrase + c\n",
    "    print(\"offset is: \" + str(i) + \" - \"+decodedPhrase)\n",
    "        \n"
   ]
  },
  {
   "cell_type": "markdown",
   "metadata": {},
   "source": [
    "## Exercise 3"
   ]
  },
  {
   "cell_type": "code",
   "execution_count": null,
   "metadata": {
    "collapsed": false
   },
   "outputs": [],
   "source": [
    "# ECB, CBC and Counter Mode\n",
    "from Crypto.Cipher import AES\n",
    "import binascii\n",
    "key = 'okthis is the secret key' #binascii.unhexlify('1F61ECB5ED5D6BAF8D7A7068B28DCC8E')\n",
    "IV = 16 * '\\x00'\n",
    "mode = AES.MODE_CBC\n",
    "encryptor = AES.new(key, mode, IV=IV)\n",
    "text = '012345678912test'#binascii.unhexlify('test 123')\n",
    "ciphertext = encryptor.encrypt(text)\n",
    "#print(binascii.hexlify(ciphertext))\n",
    "print((ciphertext))"
   ]
  },
  {
   "cell_type": "code",
   "execution_count": null,
   "metadata": {
    "collapsed": false
   },
   "outputs": [],
   "source": [
    "encryptor.decrypt(ciphertext)"
   ]
  },
  {
   "cell_type": "code",
   "execution_count": null,
   "metadata": {
    "collapsed": false
   },
   "outputs": [],
   "source": []
  },
  {
   "cell_type": "markdown",
   "metadata": {},
   "source": [
    "Sources:\n",
    "\n",
    "http://stackoverflow.com/questions/32160121/aes-128-in-python\n",
    "\n",
    "https://pythonhosted.org/pycrypto/Crypto.Cipher.AES-module.html"
   ]
  }
 ],
 "metadata": {
  "kernelspec": {
   "display_name": "Python 3",
   "language": "python",
   "name": "python3"
  },
  "language_info": {
   "codemirror_mode": {
    "name": "ipython",
    "version": 3
   },
   "file_extension": ".py",
   "mimetype": "text/x-python",
   "name": "python",
   "nbconvert_exporter": "python",
   "pygments_lexer": "ipython3",
   "version": "3.5.1"
  }
 },
 "nbformat": 4,
 "nbformat_minor": 0
}
