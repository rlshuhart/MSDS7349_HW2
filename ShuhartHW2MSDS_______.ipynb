{
 "cells": [
  {
   "cell_type": "markdown",
   "metadata": {},
   "source": [
    "# MSDS 7349\n",
    "Data and Network Security - Homework - Introduction to Ciphers <br>\n",
    "\n",
    "## Name: Ryan Shuhart"
   ]
  },
  {
   "cell_type": "code",
   "execution_count": 1,
   "metadata": {
    "collapsed": true
   },
   "outputs": [],
   "source": [
    "import pandas as pd\n",
    "\n",
    "\"\"\"\n",
    "Plain text: ABCDEFGHIJKLMNOPQRSTUVWXYZ\n",
    "Ciphertext: DEFGHIJKLMNOPQRSTUVWXYZABC\n",
    "\"\"\"\n",
    "plain_text= 'ABCDEFGHIJKLMNOPQRSTUVWXYZ'\n",
    "#cipher_map = {'A':'D'}"
   ]
  },
  {
   "cell_type": "code",
   "execution_count": 27,
   "metadata": {
    "collapsed": false
   },
   "outputs": [
    {
     "name": "stdout",
     "output_type": "stream",
     "text": [
      "Z C\n",
      "Y B\n",
      "X A\n",
      "W Z\n",
      "V Y\n",
      "U X\n",
      "T W\n",
      "S V\n",
      "R U\n",
      "Q T\n",
      "P S\n",
      "O R\n",
      "N Q\n",
      "M P\n",
      "L O\n",
      "K N\n",
      "J M\n",
      "I L\n",
      "H K\n",
      "G J\n",
      "F I\n",
      "E H\n",
      "D G\n",
      "C F\n",
      "B E\n",
      "A D\n",
      "{'Q': 'T', 'D': 'G', 'O': 'R', 'W': 'Z', 'P': 'S', 'A': 'D', 'L': 'O', 'X': 'A', 'J': 'M', 'G': 'J', 'Z': 'C', 'V': 'Y', 'R': 'U', 'S': 'V', 'U': 'X', 'I': 'L', 'K': 'N', 'T': 'W', 'H': 'K', 'C': 'F', 'B': 'E', 'E': 'H', 'M': 'P', 'Y': 'B', 'N': 'Q', 'F': 'I'}\n"
     ]
    }
   ],
   "source": [
    "cipher_shift = 3\n",
    "cipher_map ={}\n",
    "for i in range(len(plain_text)):\n",
    "    print(plain_text[25-i], plain_text[25-(i+26-cipher_shift)])\n",
    "    cipher_map[plain_text[25-i]]=plain_text[25-(i+26-cipher_shift)]\n",
    "    \n",
    "print(cipher_map)"
   ]
  },
  {
   "cell_type": "code",
   "execution_count": null,
   "metadata": {
    "collapsed": false
   },
   "outputs": [],
   "source": [
    "phrase = str(input(\"Enter sentence to encrypt: \"))\n",
    "shift = int(input(\"Enter shift value: \"))\n",
    "encodedPhrase = \"\"\n",
    "for c in phrase:\n",
    "    if c.islower() == True:\n",
    "        encodedPhrase = encodedPhrase + chr(((ord(c)+shift)-97)%26 + 97)\n",
    "    elif c.isupper() == True:\n",
    "        encodedPhrase = encodedPhrase + chr(((ord(c)+shift)-65)%26 + 65)\n",
    "    else:\n",
    "        encodedPhrase = encodedPhrase + c\n",
    "        \n",
    "print(encodedPhrase)"
   ]
  },
  {
   "cell_type": "code",
   "execution_count": null,
   "metadata": {
    "collapsed": false
   },
   "outputs": [],
   "source": []
  },
  {
   "cell_type": "markdown",
   "metadata": {},
   "source": [
    "sources:\n",
    "\n",
    "    http://stackoverflow.com/questions/483666/python-reverse-inverse-a-mapping\n",
    "    http://stackoverflow.com/questions/12934997/how-to-detect-lowercase-letters-in-python"
   ]
  }
 ],
 "metadata": {
  "kernelspec": {
   "display_name": "Python 3",
   "language": "python",
   "name": "python3"
  },
  "language_info": {
   "codemirror_mode": {
    "name": "ipython",
    "version": 3
   },
   "file_extension": ".py",
   "mimetype": "text/x-python",
   "name": "python",
   "nbconvert_exporter": "python",
   "pygments_lexer": "ipython3",
   "version": "3.5.1"
  }
 },
 "nbformat": 4,
 "nbformat_minor": 0
}
