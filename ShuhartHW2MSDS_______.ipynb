{
 "cells": [
  {
   "cell_type": "markdown",
   "metadata": {},
   "source": [
    "# MSDS 7349\n",
    "Data and Network Security - Homework - Introduction to Ciphers <br>\n",
    "\n",
    "## Name: Ryan Shuhart"
   ]
  },
  {
   "cell_type": "markdown",
   "metadata": {},
   "source": [
    "## Exercise 1"
   ]
  },
  {
   "cell_type": "code",
   "execution_count": 101,
   "metadata": {
    "collapsed": false
   },
   "outputs": [
    {
     "name": "stdout",
     "output_type": "stream",
     "text": [
      "Enter sentence to encrypt: Mayday! Mayday!\n",
      "Enter shift value: 4\n",
      "Qechec! Qechec!\n"
     ]
    }
   ],
   "source": [
    "phrase = str(input(\"Enter sentence to encrypt: \"))\n",
    "shift = int(input(\"Enter shift value: \"))\n",
    "encodedPhrase = \"\"\n",
    "for c in phrase:\n",
    "    if c.islower() == True:\n",
    "        encodedPhrase = encodedPhrase + chr(((ord(c)+shift)-97)%26 + 97)\n",
    "    elif c.isupper() == True:\n",
    "        encodedPhrase = encodedPhrase + chr(((ord(c)+shift)-65)%26 + 65)\n",
    "    else:\n",
    "        encodedPhrase = encodedPhrase + c\n",
    "        \n",
    "print(encodedPhrase)"
   ]
  },
  {
   "cell_type": "markdown",
   "metadata": {},
   "source": [
    "sources:\n",
    "\n",
    "    http://stackoverflow.com/questions/483666/python-reverse-inverse-a-mapping\n",
    "    http://stackoverflow.com/questions/12934997/how-to-detect-lowercase-letters-in-python"
   ]
  },
  {
   "cell_type": "markdown",
   "metadata": {},
   "source": [
    "## Excercise 2"
   ]
  },
  {
   "cell_type": "code",
   "execution_count": 109,
   "metadata": {
    "collapsed": false
   },
   "outputs": [
    {
     "name": "stdout",
     "output_type": "stream",
     "text": [
      "Enter sentence to decrypt: Qechec! Qechec!\n",
      "offset is: 1 - Rfdifd! Rfdifd!\n",
      "offset is: 2 - Sgejge! Sgejge!\n",
      "offset is: 3 - Thfkhf! Thfkhf!\n",
      "offset is: 4 - Uiglig! Uiglig!\n",
      "offset is: 5 - Vjhmjh! Vjhmjh!\n",
      "offset is: 6 - Wkinki! Wkinki!\n",
      "offset is: 7 - Xljolj! Xljolj!\n",
      "offset is: 8 - Ymkpmk! Ymkpmk!\n",
      "offset is: 9 - Znlqnl! Znlqnl!\n",
      "offset is: 10 - Aomrom! Aomrom!\n",
      "offset is: 11 - Bpnspn! Bpnspn!\n",
      "offset is: 12 - Cqotqo! Cqotqo!\n",
      "offset is: 13 - Drpurp! Drpurp!\n",
      "offset is: 14 - Esqvsq! Esqvsq!\n",
      "offset is: 15 - Ftrwtr! Ftrwtr!\n",
      "offset is: 16 - Gusxus! Gusxus!\n",
      "offset is: 17 - Hvtyvt! Hvtyvt!\n",
      "offset is: 18 - Iwuzwu! Iwuzwu!\n",
      "offset is: 19 - Jxvaxv! Jxvaxv!\n",
      "offset is: 20 - Kywbyw! Kywbyw!\n",
      "offset is: 21 - Lzxczx! Lzxczx!\n",
      "offset is: 22 - Mayday! Mayday!\n",
      "offset is: 23 - Nbzebz! Nbzebz!\n",
      "offset is: 24 - Ocafca! Ocafca!\n",
      "offset is: 25 - Pdbgdb! Pdbgdb!\n"
     ]
    }
   ],
   "source": [
    "cipher_phrase = str(input(\"Enter sentence to decrypt: \"))\n",
    "\n",
    "i=0\n",
    "for i in range(1,26):\n",
    "    decodedPhrase = \"\"\n",
    "    for c in cipher_phrase:        \n",
    "        if c.islower() == True:\n",
    "            decodedPhrase = decodedPhrase + chr(((ord(c)+i)-97)%26 + 97)\n",
    "        elif c.isupper() == True:\n",
    "            decodedPhrase = decodedPhrase + chr(((ord(c)+i)-65)%26 + 65)\n",
    "        else:\n",
    "            decodedPhrase = decodedPhrase + c\n",
    "    print(\"offset is: \" + str(i) + \" - \"+decodedPhrase)\n",
    "        \n"
   ]
  }
 ],
 "metadata": {
  "kernelspec": {
   "display_name": "Python 3",
   "language": "python",
   "name": "python3"
  },
  "language_info": {
   "codemirror_mode": {
    "name": "ipython",
    "version": 3
   },
   "file_extension": ".py",
   "mimetype": "text/x-python",
   "name": "python",
   "nbconvert_exporter": "python",
   "pygments_lexer": "ipython3",
   "version": "3.5.1"
  }
 },
 "nbformat": 4,
 "nbformat_minor": 0
}
