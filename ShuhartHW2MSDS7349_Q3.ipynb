{
 "cells": [
  {
   "cell_type": "markdown",
   "metadata": {},
   "source": [
    "#### July 12, 2016\n",
    "# Name: Ryan Shuhart\n",
    "## MSDS 7349\n",
    "### Homework 2\n",
    "#### Exercise 3"
   ]
  },
  {
   "cell_type": "code",
   "execution_count": 1,
   "metadata": {
    "collapsed": false
   },
   "outputs": [],
   "source": [
    "# Ryan Shuhart\n",
    "# MSDS7349\n",
    "# July 12, 2016\n",
    "#\n",
    "# Sources:\n",
    "# Started code provided by professor.\n",
    "# http://eli.thegreenplace.net/2010/06/25/aes-encryption-of-files-in-python-with-pycrypto\n",
    "# https://pythonhosted.org/pycrypto/Crypto.Cipher.AES-module.html\n",
    "# http://stackoverflow.com/questions/11656045/pycrypto-incrementing-ctr-mode\n",
    "# http://stackoverflow.com/questions/32160121/aes-128-in-python\n",
    "from PIL import Image\n",
    "import sys, os, hashlib\n",
    "from Crypto.Cipher import AES\n",
    "from Crypto import Random\n",
    "import Crypto.Util.Counter\n",
    "\n",
    "BLOCK_SIZE = 16\n",
    "\n",
    "def encrypt(input_filename, output_filename, cipher_mode):\n",
    "    \"\"\"Encrypt an image file and write out the results as a JPEG.\"\"\"\n",
    "\n",
    "    input_image = Image.open(input_filename)\n",
    "\n",
    "    # Key must be one of 16/24/32 bytes in length.\n",
    "    # Convert a phrase to a 16-bit hash. Key must bet 16 bit\n",
    "    password = b'peaches_come_from_a_can'\n",
    "    key = hashlib.sha256(password).digest()\n",
    "            \n",
    "    iv = Random.new().read(BLOCK_SIZE)\n",
    "    \n",
    "    \n",
    "    if cipher_mode == 'CBC':\n",
    "        mode = AES.MODE_CBC\n",
    "        aes = AES.new(key, mode, iv)\n",
    "    elif cipher_mode == 'ECB':\n",
    "        mode = AES.MODE_ECB\n",
    "        aes = AES.new(key, mode, iv)\n",
    "    elif cipher_mode == 'Counter':\n",
    "        mode = AES.MODE_CTR\n",
    "        ctr = Crypto.Util.Counter.new(128, initial_value=long(iv.encode(\"hex\"), 16))\n",
    "        aes = AES.new(key, mode, counter=ctr)\n",
    "\n",
    "    image_string = input_image.tobytes()\n",
    "    # The input string must be padded to the input block size.\n",
    "    image_padding_length = BLOCK_SIZE - len(image_string) % BLOCK_SIZE\n",
    "    image_string += image_padding_length * \"~\"\n",
    "\n",
    "    # generate the encrypted image string\n",
    "    encrypted = aes.encrypt(image_string)\n",
    "\n",
    "    # create an image from the encrypted string\n",
    "    encrypted_img = Image.frombuffer(\"RGB\", input_image.size, encrypted, 'raw',\n",
    "                                     \"RGB\", 0, 1)\n",
    "\n",
    "    # create and save the output image\n",
    "    encrypted_img.save(output_filename, 'JPEG')\n",
    "\n",
    "    print(\"Encrypted using AES in \" + cipher_mode + \" mode and saved to \\\"\" +\n",
    "           output_filename + \"\\\"!\")"
   ]
  },
  {
   "cell_type": "markdown",
   "metadata": {},
   "source": [
    "![title](.\\img\\python.bmp)"
   ]
  },
  {
   "cell_type": "markdown",
   "metadata": {},
   "source": [
    "_____________\n",
    "## ECB Mode"
   ]
  },
  {
   "cell_type": "code",
   "execution_count": 2,
   "metadata": {
    "collapsed": false
   },
   "outputs": [
    {
     "name": "stdout",
     "output_type": "stream",
     "text": [
      "Encrypted using AES in ECB mode and saved to \".\\img\\ECB_enc_python.bmp\"!\n"
     ]
    }
   ],
   "source": [
    "input_filename = \".\\\\img\\\\python.bmp\"\n",
    "cipher_mode = 'ECB'\n",
    "output_filename = \".\\\\img\\\\\"+cipher_mode+\"_enc_\"+input_filename.split(\"\\\\\")[-1]\n",
    "encrypt(input_filename, output_filename, cipher_mode)"
   ]
  },
  {
   "cell_type": "markdown",
   "metadata": {},
   "source": [
    "![title](.\\img\\ECB_enc_python.bmp)"
   ]
  },
  {
   "cell_type": "markdown",
   "metadata": {},
   "source": [
    "_____________\n",
    "## CBC Mode"
   ]
  },
  {
   "cell_type": "code",
   "execution_count": 3,
   "metadata": {
    "collapsed": false
   },
   "outputs": [
    {
     "name": "stdout",
     "output_type": "stream",
     "text": [
      "Encrypted using AES in CBC mode and saved to \".\\img\\CBC_enc_python.bmp\"!\n"
     ]
    }
   ],
   "source": [
    "input_filename = \".\\\\img\\\\python.bmp\"\n",
    "cipher_mode = 'CBC'\n",
    "output_filename = \".\\\\img\\\\\"+cipher_mode+\"_enc_\"+input_filename.split(\"\\\\\")[-1]\n",
    "encrypt(input_filename, output_filename, cipher_mode)"
   ]
  },
  {
   "cell_type": "markdown",
   "metadata": {},
   "source": [
    "![title](.\\img\\CBC_enc_python.bmp)"
   ]
  },
  {
   "cell_type": "markdown",
   "metadata": {},
   "source": [
    "_____________\n",
    "## Counter Mode"
   ]
  },
  {
   "cell_type": "code",
   "execution_count": 4,
   "metadata": {
    "collapsed": false
   },
   "outputs": [
    {
     "name": "stdout",
     "output_type": "stream",
     "text": [
      "Encrypted using AES in Counter mode and saved to \".\\img\\Counter_enc_python.bmp\"!\n"
     ]
    }
   ],
   "source": [
    "input_filename = \".\\\\img\\\\python.bmp\"\n",
    "cipher_mode = 'Counter'\n",
    "output_filename = \".\\\\img\\\\\"+cipher_mode+\"_enc_\"+input_filename.split(\"\\\\\")[-1]\n",
    "encrypt(input_filename, output_filename, cipher_mode)"
   ]
  },
  {
   "cell_type": "markdown",
   "metadata": {},
   "source": [
    "![title](.\\img\\Counter_enc_python.bmp)"
   ]
  }
 ],
 "metadata": {
  "kernelspec": {
   "display_name": "Python 2",
   "language": "python",
   "name": "python2"
  },
  "language_info": {
   "codemirror_mode": {
    "name": "ipython",
    "version": 2
   },
   "file_extension": ".py",
   "mimetype": "text/x-python",
   "name": "python",
   "nbconvert_exporter": "python",
   "pygments_lexer": "ipython2",
   "version": "2.7.11"
  }
 },
 "nbformat": 4,
 "nbformat_minor": 0
}
