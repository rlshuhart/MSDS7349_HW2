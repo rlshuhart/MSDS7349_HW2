{
 "cells": [
  {
   "cell_type": "markdown",
   "metadata": {},
   "source": [
    "# MSDS 7349\n",
    "Data and Network Security - Homework - Introduction to Ciphers <br>\n",
    "\n",
    "## Name: Ryan Shuhart"
   ]
  },
  {
   "cell_type": "markdown",
   "metadata": {},
   "source": [
    "## Exercise 1"
   ]
  },
  {
   "cell_type": "code",
   "execution_count": 26,
   "metadata": {
    "collapsed": false
   },
   "outputs": [
    {
     "name": "stdout",
     "output_type": "stream",
     "text": [
      "Enter sentence to encrypt: Why did the chicken cross the road?\n",
      "Enter shift value: 2\n",
      "The encoded phrase is:  Yja fkf vjg ejkemgp etquu vjg tqcf?\n"
     ]
    }
   ],
   "source": [
    "phrase = str(input(\"Enter sentence to encrypt: \"))\n",
    "shift = int(input(\"Enter shift value: \"))%26\n",
    "encodedPhrase = \"\"\n",
    "for c in phrase:\n",
    "    if c.islower() == True:\n",
    "        encodedPhrase = encodedPhrase + chr(((ord(c)+shift)-97)%26 + 97)\n",
    "    elif c.isupper() == True:\n",
    "        encodedPhrase = encodedPhrase + chr(((ord(c)+shift)-65)%26 + 65)\n",
    "    else:\n",
    "        encodedPhrase = encodedPhrase + c\n",
    "        \n",
    "print(\"The encoded phrase is: \",encodedPhrase)"
   ]
  },
  {
   "cell_type": "markdown",
   "metadata": {},
   "source": [
    "sources:\n",
    "\n",
    "    http://stackoverflow.com/questions/483666/python-reverse-inverse-a-mapping\n",
    "    http://stackoverflow.com/questions/12934997/how-to-detect-lowercase-letters-in-python"
   ]
  },
  {
   "cell_type": "markdown",
   "metadata": {},
   "source": [
    "## Excercise 2"
   ]
  },
  {
   "cell_type": "code",
   "execution_count": 25,
   "metadata": {
    "collapsed": false
   },
   "outputs": [
    {
     "name": "stdout",
     "output_type": "stream",
     "text": [
      "Enter sentence to decrypt: Yja fkf vjg ejkemgp etquu vjg tqcf?\n",
      "\n",
      "Using cryptanalysis...\n",
      "Letter        6\n",
      "Letter j      4\n",
      "Letter e      3\n",
      "Letter f      3\n",
      "Letter g      3\n",
      "Letter q      2\n",
      "Letter u      2\n",
      "Letter k      2\n",
      "Letter t      2\n",
      "Letter v      2\n",
      "Letter p      1\n",
      "Letter a      1\n",
      "Letter Y      1\n",
      "Letter ?      1\n",
      "Letter m      1\n",
      "Letter c      1\n",
      "\n",
      "Assigning the letter 'e' to the following shifts:\n",
      "[-5, 0, -1, -2, -12, -16, -6, -15]\n",
      "\n",
      "offset is 5: - Tev afa qeb zefzhbk zolpp qeb olxa?\n",
      "offset is 0: - Yja fkf vjg ejkemgp etquu vjg tqcf?\n",
      "offset is 1: - Xiz eje uif dijdlfo dsptt uif spbe?\n",
      "offset is 2: - Why did the chicken cross the road?\n",
      "offset is 12: - Mxo tyt jxu sxysaud sheii jxu heqt?\n",
      "offset is 16: - Itk pup ftq otuowqz odaee ftq damp?\n",
      "offset is 6: - Sdu zez pda ydeygaj ynkoo pda nkwz?\n",
      "offset is 15: - Jul qvq gur puvpxra pebff gur ebnq?\n"
     ]
    }
   ],
   "source": [
    "# http://stackoverflow.com/questions/991350/counting-repeated-characters-in-a-string-in-python\n",
    "# https://www.sans.org/reading-room/whitepapers/vpns/basic-cryptanalysis-techniques-752\n",
    "# The most common letters in the English language are\n",
    "# E,T,N,R,O,A,I and S\n",
    "# http://stackoverflow.com/questions/613183/sort-a-python-dictionary-by-value\n",
    "import collections\n",
    "import operator\n",
    "\n",
    "cipher_phrase = str(input(\"Enter sentence to decrypt: \"))\n",
    "print()\n",
    "\n",
    "d = collections.defaultdict(int)\n",
    "for c in cipher_phrase:\n",
    "    d[c] += 1\n",
    "\n",
    "print(\"Using cryptanalysis...\")\n",
    "for c in sorted(d, key=d.get, reverse=True):\n",
    "    print('Letter %s %6d' % (c, d[c]))\n",
    "    \n",
    "# Sort dictionary by frequency count\n",
    "x = sorted(d.items(), key=operator.itemgetter(1), reverse=True)\n",
    "\n",
    "# Use the common letter of lower case 'e' to explore offsets\n",
    "crypto_shifts = []\n",
    "z = 0\n",
    "while z < int(len(d)/2) + 1: # Iterate through half the number of unique letters plus 1\n",
    "    if x[z][0] != ' ':\n",
    "        dist = ord('e') - ord(x[z][0])\n",
    "        #print(z, x[z][0], dist)\n",
    "        crypto_shifts.append(dist)\n",
    "    z += 1\n",
    "\n",
    "print()\n",
    "print(\"Assigning the letter 'e' to the following shifts:\")\n",
    "print(crypto_shifts)\n",
    "print()\n",
    "    \n",
    "# Print phrase with e\n",
    "for shift in crypto_shifts:\n",
    "    decodedPhrase = \"\"\n",
    "    for c in cipher_phrase:        \n",
    "        if c.islower() == True:\n",
    "            decodedPhrase = decodedPhrase + chr(((ord(c)+shift)-97)%26 + 97)\n",
    "        elif c.isupper() == True:\n",
    "            decodedPhrase = decodedPhrase + chr(((ord(c)+shift)-65)%26 + 65)\n",
    "        else:\n",
    "            decodedPhrase = decodedPhrase + c\n",
    "    print(\"offset is \" + str((26 - shift)%26) + \": - \"+decodedPhrase)\n",
    "        \n"
   ]
  },
  {
   "cell_type": "markdown",
   "metadata": {},
   "source": [
    "## Exercise 3"
   ]
  },
  {
   "cell_type": "code",
   "execution_count": 79,
   "metadata": {
    "collapsed": false
   },
   "outputs": [
    {
     "name": "stdout",
     "output_type": "stream",
     "text": [
      "b'w\\xa3\\xf5\\xac\\xbd\\x1c5\\x18\\x8e\\x15\\x82\\xe5A\\x9e\\xad\\x00'\n"
     ]
    }
   ],
   "source": [
    "# ECB, CBC and Counter Mode\n",
    "from Crypto.Cipher import AES\n",
    "import binascii\n",
    "key = 'okthis is the secret key' #binascii.unhexlify('1F61ECB5ED5D6BAF8D7A7068B28DCC8E')\n",
    "IV = 16 * '\\x00'\n",
    "mode = AES.MODE_CBC\n",
    "encryptor = AES.new(key, mode, IV=IV)\n",
    "text = '012345678912test'#binascii.unhexlify('test 123')\n",
    "ciphertext = encryptor.encrypt(text)\n",
    "#print(binascii.hexlify(ciphertext))\n",
    "print((ciphertext))"
   ]
  },
  {
   "cell_type": "code",
   "execution_count": 80,
   "metadata": {
    "collapsed": false
   },
   "outputs": [
    {
     "data": {
      "text/plain": [
       "b'G\\x92\\xc7\\x9f\\x89)\\x03/\\xb6,\\xb3\\xd75\\xfb\\xdet'"
      ]
     },
     "execution_count": 80,
     "metadata": {},
     "output_type": "execute_result"
    }
   ],
   "source": [
    "encryptor.decrypt(ciphertext)"
   ]
  },
  {
   "cell_type": "code",
   "execution_count": 81,
   "metadata": {
    "collapsed": false
   },
   "outputs": [
    {
     "name": "stdout",
     "output_type": "stream",
     "text": [
      "b'\\x02@\\xe20vG\\x8d\\x06N\\x9d\\xf8\\x8c\\xf3\\xea'\n",
      "b'Attack at dawn'\n"
     ]
    }
   ],
   "source": [
    "from Crypto.Cipher import AES\n",
    "from Crypto import Random\n",
    "\n",
    "key = b'Sixteen byte key'\n",
    "iv = Random.new().read(AES.block_size)\n",
    "cipher = AES.new(key, AES.MODE_CFB, iv)\n",
    "msg = cipher.encrypt(b'Attack at dawn')\n",
    "\n",
    "print(msg)\n",
    "\n",
    "decipher = AES.new(key, AES.MODE_CFB, iv)\n",
    "print(decipher.decrypt(msg))"
   ]
  },
  {
   "cell_type": "code",
   "execution_count": 51,
   "metadata": {
    "collapsed": false
   },
   "outputs": [
    {
     "data": {
      "text/plain": [
       "16"
      ]
     },
     "execution_count": 51,
     "metadata": {},
     "output_type": "execute_result"
    }
   ],
   "source": [
    "#Random.new().read(AES.block_size)\n",
    "AES.block_size"
   ]
  },
  {
   "cell_type": "code",
   "execution_count": 46,
   "metadata": {
    "collapsed": false
   },
   "outputs": [
    {
     "ename": "ValueError",
     "evalue": "Input strings must be a multiple of 16 in length",
     "output_type": "error",
     "traceback": [
      "\u001b[1;31m---------------------------------------------------------------------------\u001b[0m",
      "\u001b[1;31mValueError\u001b[0m                                Traceback (most recent call last)",
      "\u001b[1;32m<ipython-input-46-28e5e50d1533>\u001b[0m in \u001b[0;36m<module>\u001b[1;34m()\u001b[0m\n\u001b[0;32m     15\u001b[0m \u001b[1;31m# text = 'j' * 64 + 'i' * 128\u001b[0m\u001b[1;33m\u001b[0m\u001b[1;33m\u001b[0m\u001b[0m\n\u001b[0;32m     16\u001b[0m \u001b[0mtext\u001b[0m \u001b[1;33m=\u001b[0m \u001b[1;34m'The taco tastes good'\u001b[0m\u001b[1;33m\u001b[0m\u001b[0m\n\u001b[1;32m---> 17\u001b[1;33m \u001b[0mciphertext\u001b[0m \u001b[1;33m=\u001b[0m \u001b[0mencryptor\u001b[0m\u001b[1;33m.\u001b[0m\u001b[0mencrypt\u001b[0m\u001b[1;33m(\u001b[0m\u001b[0mtext\u001b[0m\u001b[1;33m)\u001b[0m\u001b[1;33m\u001b[0m\u001b[0m\n\u001b[0m\u001b[0;32m     18\u001b[0m \u001b[0mprint\u001b[0m\u001b[1;33m(\u001b[0m\u001b[0mtext\u001b[0m\u001b[1;33m)\u001b[0m\u001b[1;33m\u001b[0m\u001b[0m\n\u001b[0;32m     19\u001b[0m \u001b[0mprint\u001b[0m\u001b[1;33m(\u001b[0m\u001b[0mciphertext\u001b[0m\u001b[1;33m)\u001b[0m\u001b[1;33m\u001b[0m\u001b[0m\n",
      "\u001b[1;32mC:\\Users\\ryan.shuhart\\AppData\\Local\\Continuum\\Anaconda3\\lib\\site-packages\\Crypto\\Cipher\\blockalgo.py\u001b[0m in \u001b[0;36mencrypt\u001b[1;34m(self, plaintext)\u001b[0m\n\u001b[0;32m    242\u001b[0m             \u001b[1;32mreturn\u001b[0m \u001b[0mres\u001b[0m\u001b[1;33m\u001b[0m\u001b[0m\n\u001b[0;32m    243\u001b[0m \u001b[1;33m\u001b[0m\u001b[0m\n\u001b[1;32m--> 244\u001b[1;33m         \u001b[1;32mreturn\u001b[0m \u001b[0mself\u001b[0m\u001b[1;33m.\u001b[0m\u001b[0m_cipher\u001b[0m\u001b[1;33m.\u001b[0m\u001b[0mencrypt\u001b[0m\u001b[1;33m(\u001b[0m\u001b[0mplaintext\u001b[0m\u001b[1;33m)\u001b[0m\u001b[1;33m\u001b[0m\u001b[0m\n\u001b[0m\u001b[0;32m    245\u001b[0m \u001b[1;33m\u001b[0m\u001b[0m\n\u001b[0;32m    246\u001b[0m     \u001b[1;32mdef\u001b[0m \u001b[0mdecrypt\u001b[0m\u001b[1;33m(\u001b[0m\u001b[0mself\u001b[0m\u001b[1;33m,\u001b[0m \u001b[0mciphertext\u001b[0m\u001b[1;33m)\u001b[0m\u001b[1;33m:\u001b[0m\u001b[1;33m\u001b[0m\u001b[0m\n",
      "\u001b[1;31mValueError\u001b[0m: Input strings must be a multiple of 16 in length"
     ]
    }
   ],
   "source": [
    "# http://eli.thegreenplace.net/2010/06/25/aes-encryption-of-files-in-python-with-pycrypto\n",
    "# https://pythonhosted.org/pycrypto/Crypto.Cipher.AES-module.html\n",
    "from Crypto.Cipher import AES\n",
    "import hashlib\n",
    "\n",
    "# Convert a phrase to a 16-bit hash. Key must bet 16 bit\n",
    "password = b'kitty'\n",
    "key = hashlib.sha256(password).digest()\n",
    "\n",
    "# Random 16 bit initialization vector\n",
    "IV = Random.new().read(AES.block_size)  # Random 16 bit initialization vector\n",
    "mode = AES.MODE_CBC\n",
    "encryptor = AES.new(key, mode, IV=IV)\n",
    "\n",
    "# text = 'j' * 64 + 'i' * 128\n",
    "text = 'The taco tastes good'\n",
    "ciphertext = encryptor.encrypt(text)\n",
    "print(text)\n",
    "print(ciphertext)\n",
    "\n",
    "decryptor = AES.new(key, mode, IV=IV)\n",
    "plain = decryptor.decrypt(ciphertext)\n",
    "print(plain)"
   ]
  },
  {
   "cell_type": "code",
   "execution_count": 82,
   "metadata": {
    "collapsed": false
   },
   "outputs": [],
   "source": [
    "# http://eli.thegreenplace.net/2010/06/25/aes-encryption-of-files-in-python-with-pycrypto\n",
    "import os, random, struct\n",
    "from Crypto.Cipher import AES\n",
    "\n",
    "def encrypt_file(key, in_filename, out_filename=None, chunksize=64*1024):\n",
    "    \"\"\" Encrypts a file using AES (CBC mode) with the\n",
    "        given key.\n",
    "\n",
    "        key:\n",
    "            The encryption key - a string that must be\n",
    "            either 16, 24 or 32 bytes long. Longer keys\n",
    "            are more secure.\n",
    "\n",
    "        in_filename:\n",
    "            Name of the input file\n",
    "\n",
    "        out_filename:\n",
    "            If None, '<in_filename>.enc' will be used.\n",
    "\n",
    "        chunksize:\n",
    "            Sets the size of the chunk which the function\n",
    "            uses to read and encrypt the file. Larger chunk\n",
    "            sizes can be faster for some files and machines.\n",
    "            chunksize must be divisible by 16.\n",
    "    \"\"\"\n",
    "    if not out_filename:\n",
    "        out_filename = in_filename + '.enc'\n",
    "\n",
    "    #iv = ''.join(chr(random.randint(0, 0xFF)) for i in range(16))\n",
    "    iv = Random.new().read(AES.block_size)\n",
    "    encryptor = AES.new(key, AES.MODE_CBC, iv)\n",
    "    filesize = os.path.getsize(in_filename)\n",
    "\n",
    "    with open(in_filename, 'rb') as infile:\n",
    "        with open(out_filename, 'wb') as outfile:\n",
    "            outfile.write(struct.pack('<Q', filesize))\n",
    "            outfile.write(iv)\n",
    "\n",
    "            while True:\n",
    "                chunk = infile.read(chunksize)\n",
    "                if len(chunk) == 0:\n",
    "                    break\n",
    "                elif len(chunk) % 16 != 0:\n",
    "                    chunk += ' '.encode('ascii') * (16 - len(chunk) % 16)\n",
    "\n",
    "                outfile.write(encryptor.encrypt(chunk))\n",
    "                \n",
    "def decrypt_file(key, in_filename, out_filename=None, chunksize=24*1024):\n",
    "    \"\"\" Decrypts a file using AES (CBC mode) with the\n",
    "        given key. Parameters are similar to encrypt_file,\n",
    "        with one difference: out_filename, if not supplied\n",
    "        will be in_filename without its last extension\n",
    "        (i.e. if in_filename is 'aaa.zip.enc' then\n",
    "        out_filename will be 'aaa.zip')\n",
    "    \"\"\"\n",
    "    if not out_filename:\n",
    "        out_filename = os.path.splitext(in_filename)[0]\n",
    "\n",
    "    with open(in_filename, 'rb') as infile:\n",
    "        origsize = struct.unpack('<Q', infile.read(struct.calcsize('Q')))[0]\n",
    "        iv = infile.read(16)\n",
    "        decryptor = AES.new(key, AES.MODE_CBC, iv)\n",
    "\n",
    "        with open(out_filename, 'wb') as outfile:\n",
    "            while True:\n",
    "                chunk = infile.read(chunksize)\n",
    "                if len(chunk) == 0:\n",
    "                    break\n",
    "                outfile.write(decryptor.decrypt(chunk))\n",
    "\n",
    "            outfile.truncate(origsize)"
   ]
  },
  {
   "cell_type": "code",
   "execution_count": 95,
   "metadata": {
    "collapsed": false,
    "scrolled": false
   },
   "outputs": [
    {
     "name": "stdout",
     "output_type": "stream",
     "text": [
      "b'\\x08\\x07\\x07\\n'\n"
     ]
    }
   ],
   "source": [
    "# Convert a phrase to a 16-bit hash. Key must bet 16 bit\n",
    "password = b'kitty'\n",
    "key = hashlib.sha256(password).digest()\n",
    "\n",
    "# Random 16 bit initialization vector\n",
    "IV = Random.new().read(AES.block_size)  # Random 16 bit initialization vector\n",
    "mode = AES.MODE_CBC\n",
    "encryptor = AES.new(key, mode, IV=IV)\n",
    "\n",
    "\n",
    "in_filename = \".\\\\img\\\\The Doc.jpg\"\n",
    "out_filename = \".\\\\img\\\\enc_\"+in_filename.split(\"\\\\\")[-1]\n",
    "\n",
    "with  open(in_filename, \"rb\") as in_file:\n",
    "    img_all = in_file.readlines()\n",
    "    img_header = img_all[0]#[:3]\n",
    "    #print(len(img_header)%16)\n",
    "    img_footer = img_all[-1]#[-2:]\n",
    "    #print(img_footer)\n",
    "    img_to_encrypt = img_all[1:-1]\n",
    "    print(img_to_encrypt[0][0:10])\n",
    "\n",
    "\n",
    "# ciphertext = encryptor.encrypt(img_header)\n",
    "# print(img_header)\n",
    "# print(ciphertext)\n",
    "# http://www.file-recovery.com/jpg-signature-format.htm"
   ]
  },
  {
   "cell_type": "code",
   "execution_count": 42,
   "metadata": {
    "collapsed": false
   },
   "outputs": [
    {
     "name": "stdout",
     "output_type": "stream",
     "text": [
      "b'\\xff\\xd9'\n"
     ]
    }
   ],
   "source": [
    "in_filename = \".\\\\img\\\\The Doc.jpg\"\n",
    "out_filename = \".\\\\img\\\\enc_\"+in_filename.split(\"\\\\\")[-1]\n",
    "in_file = open(in_filename, \"rb\") # opening for [r]eading as [b]inary\n",
    "out_file = open(out_filename, \"rb\") \n",
    "data_in = in_file.readlines()[-1][-2:] # if you only wanted to read 512 bytes, do .read(512)\n",
    "data_out = out_file.read(10)\n",
    "in_file.close()\n",
    "out_file.close()\n",
    "print(data_in)\n",
    "#print(data_out)\n",
    "\n",
    "# out_file = open(out_filename, \"wb\") \n",
    "# out_file.write(data_in)\n",
    "# out_file.close()\n",
    "# out_file = open(out_filename, \"rb\") \n",
    "# #print(out_file.read(20))\n",
    "# out_file.close()\n"
   ]
  },
  {
   "cell_type": "code",
   "execution_count": 121,
   "metadata": {
    "collapsed": false
   },
   "outputs": [
    {
     "ename": "OverflowError",
     "evalue": "cannot fit 'int' into an index-sized integer",
     "output_type": "error",
     "traceback": [
      "\u001b[1;31m---------------------------------------------------------------------------\u001b[0m",
      "\u001b[1;31mOverflowError\u001b[0m                             Traceback (most recent call last)",
      "\u001b[1;32m<ipython-input-121-43bdc701f22d>\u001b[0m in \u001b[0;36m<module>\u001b[1;34m()\u001b[0m\n\u001b[0;32m     94\u001b[0m \u001b[1;33m\u001b[0m\u001b[0m\n\u001b[0;32m     95\u001b[0m \u001b[1;32mif\u001b[0m \u001b[0m__name__\u001b[0m \u001b[1;33m==\u001b[0m \u001b[1;34m\"__main__\"\u001b[0m\u001b[1;33m:\u001b[0m\u001b[1;33m\u001b[0m\u001b[0m\n\u001b[1;32m---> 96\u001b[1;33m     \u001b[0mmain\u001b[0m\u001b[1;33m(\u001b[0m\u001b[1;33m)\u001b[0m\u001b[1;33m\u001b[0m\u001b[0m\n\u001b[0m",
      "\u001b[1;32m<ipython-input-121-43bdc701f22d>\u001b[0m in \u001b[0;36mmain\u001b[1;34m()\u001b[0m\n\u001b[0;32m     90\u001b[0m     \u001b[0mmy_penguin\u001b[0m \u001b[1;33m=\u001b[0m \u001b[0mECBPenguin\u001b[0m\u001b[1;33m(\u001b[0m\u001b[1;33m)\u001b[0m\u001b[1;33m\u001b[0m\u001b[0m\n\u001b[0;32m     91\u001b[0m     \u001b[0mmy_penguin\u001b[0m\u001b[1;33m.\u001b[0m\u001b[0mshow_clr\u001b[0m\u001b[1;33m(\u001b[0m\u001b[1;33m)\u001b[0m\u001b[1;33m\u001b[0m\u001b[0m\n\u001b[1;32m---> 92\u001b[1;33m     \u001b[0mmy_penguin\u001b[0m\u001b[1;33m.\u001b[0m\u001b[0mencrypt\u001b[0m\u001b[1;33m(\u001b[0m\u001b[1;33m)\u001b[0m\u001b[1;33m\u001b[0m\u001b[0m\n\u001b[0m\u001b[0;32m     93\u001b[0m     \u001b[0mmy_penguin\u001b[0m\u001b[1;33m.\u001b[0m\u001b[0mshow_enc\u001b[0m\u001b[1;33m(\u001b[0m\u001b[1;33m)\u001b[0m\u001b[1;33m\u001b[0m\u001b[0m\n\u001b[0;32m     94\u001b[0m \u001b[1;33m\u001b[0m\u001b[0m\n",
      "\u001b[1;32m<ipython-input-121-43bdc701f22d>\u001b[0m in \u001b[0;36mencrypt\u001b[1;34m(self, img_enc, key)\u001b[0m\n\u001b[0;32m     59\u001b[0m         \u001b[0mf_out\u001b[0m\u001b[1;33m.\u001b[0m\u001b[0mwrite\u001b[0m\u001b[1;33m(\u001b[0m\u001b[0mself\u001b[0m\u001b[1;33m.\u001b[0m\u001b[0m_dibheader\u001b[0m\u001b[1;33m)\u001b[0m\u001b[1;33m\u001b[0m\u001b[0m\n\u001b[0;32m     60\u001b[0m         \u001b[0mrow_padded\u001b[0m \u001b[1;33m=\u001b[0m \u001b[1;33m(\u001b[0m\u001b[0mself\u001b[0m\u001b[1;33m.\u001b[0m\u001b[0mwidth\u001b[0m \u001b[1;33m*\u001b[0m \u001b[0mself\u001b[0m\u001b[1;33m.\u001b[0m\u001b[0mheight\u001b[0m \u001b[1;33m*\u001b[0m \u001b[1;36m3\u001b[0m\u001b[1;33m)\u001b[0m\u001b[1;33m+\u001b[0m\u001b[1;36m2\u001b[0m\u001b[1;33m\u001b[0m\u001b[0m\n\u001b[1;32m---> 61\u001b[1;33m         \u001b[0mimage_data\u001b[0m \u001b[1;33m=\u001b[0m \u001b[0mf_in\u001b[0m\u001b[1;33m.\u001b[0m\u001b[0mread\u001b[0m\u001b[1;33m(\u001b[0m\u001b[0mrow_padded\u001b[0m\u001b[1;33m)\u001b[0m\u001b[1;33m\u001b[0m\u001b[0m\n\u001b[0m\u001b[0;32m     62\u001b[0m         \u001b[0mcleartext\u001b[0m \u001b[1;33m=\u001b[0m  \u001b[0mbinascii\u001b[0m\u001b[1;33m.\u001b[0m\u001b[0munhexlify\u001b[0m\u001b[1;33m(\u001b[0m\u001b[0mbinascii\u001b[0m\u001b[1;33m.\u001b[0m\u001b[0mhexlify\u001b[0m\u001b[1;33m(\u001b[0m\u001b[0mimage_data\u001b[0m\u001b[1;33m)\u001b[0m\u001b[1;33m)\u001b[0m\u001b[1;33m\u001b[0m\u001b[0m\n\u001b[0;32m     63\u001b[0m \u001b[1;33m\u001b[0m\u001b[0m\n",
      "\u001b[1;31mOverflowError\u001b[0m: cannot fit 'int' into an index-sized integer"
     ]
    }
   ],
   "source": [
    "# http://stackoverflow.com/questions/3896286/image-library-for-python-3\n",
    "# http://stackoverflow.com/questions/29039773/produce-the-ecb-penguin-with-aes-in-python\n",
    "#!/usr/bin/python\n",
    "import binascii, os.path, urllib.request, random\n",
    "from PIL import Image\n",
    "from Crypto.Cipher import AES\n",
    "\n",
    "class ECBPenguin(object):\n",
    "    '''\n",
    "    A penguin class\n",
    "    '''\n",
    "    def __init__(self, img_clr=\"\"):\n",
    "        if not img_clr:\n",
    "            self.__demo_image__()\n",
    "            self.img_clr = \"tux_clear.bmp\"\n",
    "        else:\n",
    "            self.img_clr = img_clr\n",
    "        self.__get_header__()\n",
    "\n",
    "    def __demo_image__(self):\n",
    "        ''' \n",
    "        Downloads a TUX image compatible for this program: square and with size multiple of 16\n",
    "        '''\n",
    "        #image = urllib.request.URLopener()\n",
    "        #image.retrieve(\".\\\\img\\\\The Doc.jpg\",\"tux_clear.bmp\")\n",
    "        path = '.\\\\img\\\\The Doc.jpg'\n",
    "        image = Image.open(open(path, 'rb')) \n",
    "\n",
    "    def __get_sizes__(self, dibheader):\n",
    "        # Get image's dimensions (at offsets 4 and 8 of the DIB header)\n",
    "        DIBheader = []\n",
    "        for i in range(0,80,2):\n",
    "            DIBheader.append(int(binascii.hexlify(dibheader)[i:i+2],16))\n",
    "        self.width = sum([DIBheader[i+4]*256**i for i in range(0,4)])\n",
    "        self.height = sum([DIBheader[i+8]*256**i for i in range(0,4)])\n",
    "\n",
    "    def __get_header__(self):\n",
    "        '''\n",
    "        Read BMP and DIB headers from input image and write them to output image\n",
    "        '''\n",
    "        f_in = open(self.img_clr, 'rb')\n",
    "        # BMP is 14 bytes\n",
    "        bmpheader = f_in.read(14)\n",
    "        # DIB is 40 bytes\n",
    "        dibheader = f_in.read(40)\n",
    "        self.__get_sizes__(dibheader)\n",
    "        self._bmpheader = bmpheader\n",
    "        self._dibheader = dibheader\n",
    "        f_in.close()\n",
    "\n",
    "    def encrypt(self, img_enc = \"tux_enc.jpg\", key = '0123456789abcdef'):\n",
    "        '''\n",
    "        Encrypt the my_penguin\n",
    "        '''\n",
    "        self.img_enc = img_enc\n",
    "        f_in = open(self.img_clr, 'rb')\n",
    "        f_out = open(img_enc, 'wb')\n",
    "        f_out.write(self._bmpheader)\n",
    "        f_out.write(self._dibheader)\n",
    "        row_padded = (self.width * self.height * 3)\n",
    "        image_data = f_in.read(row_padded)\n",
    "        cleartext =  binascii.unhexlify(binascii.hexlify(image_data))\n",
    "\n",
    "        # Initialization Vector\n",
    "        IV = ''.join(chr(random.randint(0, 0xFF)) for i in range(16))\n",
    "        # AES ECB mode\n",
    "        mode = AES.MODE_ECB\n",
    "        # Encryptor\n",
    "        encryptor = AES.new(key, mode, IV=IV)\n",
    "        # Perform the encryption and write output to file\n",
    "        f_out.write(encryptor.encrypt(cleartext))\n",
    "        f_in.close()\n",
    "        f_out.close()\n",
    "\n",
    "    def show_clr(self):\n",
    "        '''\n",
    "        Display cleartext penguin\n",
    "        '''\n",
    "        im = Image.open(self.img_clr)\n",
    "        im.show()\n",
    "\n",
    "    def show_enc(self):\n",
    "        '''\n",
    "        Display ciphertext penguin\n",
    "        '''\n",
    "        im = Image.open(self.img_enc)\n",
    "        im.show()\n",
    "\n",
    "def main():\n",
    "    my_penguin = ECBPenguin()\n",
    "    my_penguin.show_clr()\n",
    "    my_penguin.encrypt()\n",
    "    my_penguin.show_enc()\n",
    "\n",
    "if __name__ == \"__main__\":\n",
    "    main()"
   ]
  },
  {
   "cell_type": "code",
   "execution_count": 108,
   "metadata": {
    "collapsed": false
   },
   "outputs": [],
   "source": []
  },
  {
   "cell_type": "markdown",
   "metadata": {},
   "source": [
    "Sources:\n",
    "\n",
    "http://eli.thegreenplace.net/2010/06/25/aes-encryption-of-files-in-python-with-pycrypto\n",
    "\n",
    "http://stackoverflow.com/questions/32160121/aes-128-in-python\n",
    "\n",
    "https://pythonhosted.org/pycrypto/Crypto.Cipher.AES-module.html"
   ]
  }
 ],
 "metadata": {
  "kernelspec": {
   "display_name": "Python 3",
   "language": "python",
   "name": "python3"
  },
  "language_info": {
   "codemirror_mode": {
    "name": "ipython",
    "version": 3
   },
   "file_extension": ".py",
   "mimetype": "text/x-python",
   "name": "python",
   "nbconvert_exporter": "python",
   "pygments_lexer": "ipython3",
   "version": "3.5.1"
  }
 },
 "nbformat": 4,
 "nbformat_minor": 0
}
